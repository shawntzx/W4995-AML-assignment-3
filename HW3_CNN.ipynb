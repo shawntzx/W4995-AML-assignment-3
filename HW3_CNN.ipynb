{
 "cells": [
  {
   "cell_type": "markdown",
   "id": "d9bcdbd2-3401-41ad-a83f-830e9346e607",
   "metadata": {},
   "source": [
    "# Homework 3: Convolutional Neural Networks\n",
    "\n",
    "Due Wednesday 11/24 at 11:59 pm EST"
   ]
  },
  {
   "cell_type": "markdown",
   "id": "8da8daa7-f0cf-47f8-bc5f-6eb13573891c",
   "metadata": {},
   "source": [
    "Download the dataset `cats-notcats` from github (given as a part of the assignment). This dataset has images of cats and images that are not cats (in separate folders). The task is to train a convolutional neural network (CNN) to build a classifier that can classify a new image as either `cat` or `not cat`"
   ]
  },
  {
   "cell_type": "markdown",
   "id": "fafa37c4-c8fc-4697-9bbe-11539d710bf7",
   "metadata": {},
   "source": [
    "1. Load the dataset and create three stratified splits - train/validation/test in the ratio of 70/10/20. "
   ]
  },
  {
   "cell_type": "code",
   "execution_count": 16,
   "id": "44c960f9-2bf7-4187-8b98-a5646b2ef64a",
   "metadata": {},
   "outputs": [],
   "source": [
    "#code here"
   ]
  },
  {
   "cell_type": "markdown",
   "id": "e29a4db3-129d-4863-b470-024003f75e04",
   "metadata": {},
   "source": [
    "2. Create a CNN that has the following hidden layers:\n",
    "\n",
    "    a. 2D convolution layer with a 3x3 kernel size, has 128 filters, stride of 1 and padded to yield the same size as input, followed by a ReLU activation layer\n",
    "    \n",
    "    b. Max pooling layer of 2x2\n",
    "    \n",
    "    c. Dense layer with 128 dimensions and ReLU as the activation layer"
   ]
  },
  {
   "cell_type": "code",
   "execution_count": 15,
   "id": "7b417843-ffc4-4614-b2ef-964f8ec3e510",
   "metadata": {},
   "outputs": [],
   "source": [
    "#code here"
   ]
  },
  {
   "cell_type": "markdown",
   "id": "fb56c38b-a22b-4db7-bdad-ef70e0fb1b1d",
   "metadata": {},
   "source": [
    "3. Train the classifier for 20 epochs with 100 steps per epoch. Also use the validation data during training the estimator."
   ]
  },
  {
   "cell_type": "code",
   "execution_count": 13,
   "id": "2fd6516a-1093-40a0-bb1a-bb64d909a93d",
   "metadata": {},
   "outputs": [],
   "source": [
    "#code here"
   ]
  },
  {
   "cell_type": "markdown",
   "id": "bf9ca50f",
   "metadata": {},
   "source": [
    "4. Plot the accuracy and the loss over epochs for train & validation sets"
   ]
  },
  {
   "cell_type": "code",
   "execution_count": null,
   "id": "2c550991",
   "metadata": {},
   "outputs": [],
   "source": []
  },
  {
   "cell_type": "markdown",
   "id": "26ce5428-94b5-45f1-a08d-9f36dfacfbfb",
   "metadata": {},
   "source": [
    "5. Add the following layers to (2) before the dense layer:\n",
    "\n",
    "    a. 2D convolution layer with a 3x3 kernel size, has 64 filters, stride of 1 and padded to yield the same size as input, followed by a ReLU activation layer\n",
    "    \n",
    "    b. Max pooling layer of 2x2\n",
    "    \n",
    "    c. 2D convolution layer with a 3x3 kernel size, has 32 filters, stride of 1 and padded to yield the same size as input, followed by a ReLU activation layer\n",
    "    \n",
    "    d. Max pooling layer of 2x2\n",
    "    \n",
    "    e. Dense layer with 256 dimensions and ReLU as the activation layer"
   ]
  },
  {
   "cell_type": "code",
   "execution_count": 17,
   "id": "c07e8e76-0caa-41ff-a1da-60d36aad0546",
   "metadata": {},
   "outputs": [],
   "source": [
    "#code here"
   ]
  },
  {
   "cell_type": "markdown",
   "id": "abb8708e-a2f9-455f-b476-08f1bfdf8e8f",
   "metadata": {},
   "source": [
    "6. Train the classifier again for 20 epochs with 100 steps per epoch. Also use the validation data during training the estimator."
   ]
  },
  {
   "cell_type": "code",
   "execution_count": 19,
   "id": "6b4bc378-d1c4-4c71-ae4c-a0b6b22a9e04",
   "metadata": {},
   "outputs": [],
   "source": [
    "#code here"
   ]
  },
  {
   "cell_type": "markdown",
   "id": "e4c95d51-b223-4040-b85e-b3cd0e71b7ab",
   "metadata": {},
   "source": [
    "7. Plot the accuracy and the loss over epochs for train & validation sets"
   ]
  },
  {
   "cell_type": "code",
   "execution_count": 21,
   "id": "ab945671-a5f4-43b9-ba1d-0355105f1eb3",
   "metadata": {},
   "outputs": [],
   "source": [
    "#code here"
   ]
  }
 ],
 "metadata": {
  "kernelspec": {
   "display_name": "Python 3 (ipykernel)",
   "language": "python",
   "name": "python3"
  },
  "language_info": {
   "codemirror_mode": {
    "name": "ipython",
    "version": 3
   },
   "file_extension": ".py",
   "mimetype": "text/x-python",
   "name": "python",
   "nbconvert_exporter": "python",
   "pygments_lexer": "ipython3",
   "version": "3.8.8"
  }
 },
 "nbformat": 4,
 "nbformat_minor": 5
}
