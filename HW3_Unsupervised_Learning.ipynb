{
 "cells": [
  {
   "cell_type": "markdown",
   "id": "6a96be11",
   "metadata": {},
   "source": [
    "# Homework 3: Unsupervised Learning"
   ]
  },
  {
   "cell_type": "markdown",
   "id": "85124691",
   "metadata": {},
   "source": [
    "Due Wednesday 11/24 at 11:59 pm EST\n",
    "\n",
    "In this notebook, we will be applying unsupervised learning approaches to a problem in computational biology. Specifically, we will be analyzing single-cell genomic sequencing data. Single-cell genomics is a set of revolutionary new technologies which can profile the genome of a specimen (tissue, blood, etc.) at the resolution of individual cells. This increased granularity can help capture intercellular heterogeneity, key to better understanding and treating complex genetic diseases such as cancer and Alzheimer's. \n",
    "\n",
    "<img src=\"https://cdn.10xgenomics.com/image/upload/v1574196658/blog/singlecell-v.-bulk-image.png\" width=\"800px\"/>\n",
    "\n",
    "<center>Source: 10xgenomics.com/blog/single-cell-rna-seq-an-introductory-overview-and-tools-for-getting-started</center>\n",
    "\n",
    "A common challenge of genomic datasets is their high-dimensionality: a single observation (a cell, in the case of single-cell data) may have tens of thousands of gene expression features. Fortunately, biology offers a lot of structure - different genes work together in pathways and are co-regulated by gene regulatory networks. Unsupervised learning is widely used to discover this intrinsic structure and prepare the data for further analysis."
   ]
  },
  {
   "cell_type": "code",
   "execution_count": 1,
   "id": "bdce9970",
   "metadata": {
    "ExecuteTime": {
     "end_time": "2021-11-16T22:24:06.192909Z",
     "start_time": "2021-11-16T22:24:03.627172Z"
    }
   },
   "outputs": [],
   "source": [
    "import numpy as np\n",
    "import pandas as pd\n",
    "import matplotlib.pyplot as plt\n",
    "%matplotlib inline\n",
    "from sklearn.decomposition import PCA\n",
    "from sklearn.manifold import TSNE"
   ]
  },
  {
   "cell_type": "markdown",
   "id": "68a52358",
   "metadata": {},
   "source": [
    "## Dataset: single-cell RNASeq of mouse brain cells"
   ]
  },
  {
   "cell_type": "markdown",
   "id": "33d4ff5e",
   "metadata": {},
   "source": [
    "We will be working with a single-cell RNASeq dataset of mouse brain cells. In the following gene expression matrix, each row represents a cell and each column represents a gene. Each entry in the matrix is a normalized gene expression count - a higher value means that the gene is expressed more in that cell. The dataset has been pre-processed using various quality control and normalization methods for single-cell data. \n",
    "\n",
    "Data source: https://chanzuckerberg.github.io/scRNA-python-workshop/preprocessing/00-tabula-muris.html"
   ]
  },
  {
   "cell_type": "code",
   "execution_count": 2,
   "id": "026c0067",
   "metadata": {
    "ExecuteTime": {
     "end_time": "2021-11-16T22:24:26.830119Z",
     "start_time": "2021-11-16T22:24:06.195411Z"
    }
   },
   "outputs": [
    {
     "data": {
      "text/html": [
       "<div>\n",
       "<style scoped>\n",
       "    .dataframe tbody tr th:only-of-type {\n",
       "        vertical-align: middle;\n",
       "    }\n",
       "\n",
       "    .dataframe tbody tr th {\n",
       "        vertical-align: top;\n",
       "    }\n",
       "\n",
       "    .dataframe thead th {\n",
       "        text-align: right;\n",
       "    }\n",
       "</style>\n",
       "<table border=\"1\" class=\"dataframe\">\n",
       "  <thead>\n",
       "    <tr style=\"text-align: right;\">\n",
       "      <th></th>\n",
       "      <th>0610005C13Rik</th>\n",
       "      <th>0610007C21Rik</th>\n",
       "      <th>0610007L01Rik</th>\n",
       "      <th>0610007N19Rik</th>\n",
       "      <th>0610007P08Rik</th>\n",
       "      <th>0610007P14Rik</th>\n",
       "      <th>0610007P22Rik</th>\n",
       "      <th>0610009B14Rik</th>\n",
       "      <th>0610009B22Rik</th>\n",
       "      <th>0610009D07Rik</th>\n",
       "      <th>...</th>\n",
       "      <th>Zwint</th>\n",
       "      <th>Zxda</th>\n",
       "      <th>Zxdb</th>\n",
       "      <th>Zxdc</th>\n",
       "      <th>Zyg11b</th>\n",
       "      <th>Zyx</th>\n",
       "      <th>Zzef1</th>\n",
       "      <th>Zzz3</th>\n",
       "      <th>a</th>\n",
       "      <th>l7Rn6</th>\n",
       "    </tr>\n",
       "    <tr>\n",
       "      <th>cell</th>\n",
       "      <th></th>\n",
       "      <th></th>\n",
       "      <th></th>\n",
       "      <th></th>\n",
       "      <th></th>\n",
       "      <th></th>\n",
       "      <th></th>\n",
       "      <th></th>\n",
       "      <th></th>\n",
       "      <th></th>\n",
       "      <th></th>\n",
       "      <th></th>\n",
       "      <th></th>\n",
       "      <th></th>\n",
       "      <th></th>\n",
       "      <th></th>\n",
       "      <th></th>\n",
       "      <th></th>\n",
       "      <th></th>\n",
       "      <th></th>\n",
       "      <th></th>\n",
       "    </tr>\n",
       "  </thead>\n",
       "  <tbody>\n",
       "    <tr>\n",
       "      <th>A1.B003290.3_38_F.1.1</th>\n",
       "      <td>-0.08093</td>\n",
       "      <td>0.7856</td>\n",
       "      <td>1.334</td>\n",
       "      <td>-0.2727</td>\n",
       "      <td>-0.4153</td>\n",
       "      <td>-0.8310</td>\n",
       "      <td>-0.4692</td>\n",
       "      <td>-0.03146</td>\n",
       "      <td>-0.6035</td>\n",
       "      <td>-1.021000</td>\n",
       "      <td>...</td>\n",
       "      <td>-0.7227</td>\n",
       "      <td>-0.2145</td>\n",
       "      <td>-0.1927</td>\n",
       "      <td>-0.4163</td>\n",
       "      <td>-0.5923</td>\n",
       "      <td>-0.5913</td>\n",
       "      <td>-0.553</td>\n",
       "      <td>-0.5654</td>\n",
       "      <td>-0.04385</td>\n",
       "      <td>1.567</td>\n",
       "    </tr>\n",
       "    <tr>\n",
       "      <th>A1.B003728.3_56_F.1.1</th>\n",
       "      <td>-0.08093</td>\n",
       "      <td>-1.4840</td>\n",
       "      <td>-0.576</td>\n",
       "      <td>-0.2727</td>\n",
       "      <td>-0.4153</td>\n",
       "      <td>1.8350</td>\n",
       "      <td>-0.4692</td>\n",
       "      <td>-0.03146</td>\n",
       "      <td>-0.6035</td>\n",
       "      <td>-1.021000</td>\n",
       "      <td>...</td>\n",
       "      <td>-0.7227</td>\n",
       "      <td>-0.2145</td>\n",
       "      <td>-0.1927</td>\n",
       "      <td>-0.4163</td>\n",
       "      <td>-0.5923</td>\n",
       "      <td>-0.5913</td>\n",
       "      <td>-0.553</td>\n",
       "      <td>-0.5654</td>\n",
       "      <td>-0.04385</td>\n",
       "      <td>-0.681</td>\n",
       "    </tr>\n",
       "    <tr>\n",
       "      <th>A1.MAA000560.3_10_M.1.1</th>\n",
       "      <td>-0.08093</td>\n",
       "      <td>0.6300</td>\n",
       "      <td>-0.576</td>\n",
       "      <td>-0.2727</td>\n",
       "      <td>-0.4153</td>\n",
       "      <td>-0.2084</td>\n",
       "      <td>-0.4692</td>\n",
       "      <td>-0.03146</td>\n",
       "      <td>-0.6035</td>\n",
       "      <td>1.253000</td>\n",
       "      <td>...</td>\n",
       "      <td>1.3150</td>\n",
       "      <td>-0.2145</td>\n",
       "      <td>-0.1927</td>\n",
       "      <td>-0.4163</td>\n",
       "      <td>-0.5923</td>\n",
       "      <td>-0.5913</td>\n",
       "      <td>2.072</td>\n",
       "      <td>-0.5654</td>\n",
       "      <td>-0.04385</td>\n",
       "      <td>1.260</td>\n",
       "    </tr>\n",
       "    <tr>\n",
       "      <th>A1.MAA000564.3_10_M.1.1</th>\n",
       "      <td>-0.08093</td>\n",
       "      <td>0.3809</td>\n",
       "      <td>1.782</td>\n",
       "      <td>-0.2727</td>\n",
       "      <td>-0.4153</td>\n",
       "      <td>1.0300</td>\n",
       "      <td>-0.4692</td>\n",
       "      <td>-0.03146</td>\n",
       "      <td>1.2640</td>\n",
       "      <td>-1.021000</td>\n",
       "      <td>...</td>\n",
       "      <td>-0.7227</td>\n",
       "      <td>-0.2145</td>\n",
       "      <td>-0.1927</td>\n",
       "      <td>-0.4163</td>\n",
       "      <td>-0.5923</td>\n",
       "      <td>2.3900</td>\n",
       "      <td>-0.553</td>\n",
       "      <td>0.1697</td>\n",
       "      <td>-0.04385</td>\n",
       "      <td>-0.681</td>\n",
       "    </tr>\n",
       "    <tr>\n",
       "      <th>A1.MAA000923.3_9_M.1.1</th>\n",
       "      <td>-0.08093</td>\n",
       "      <td>0.5654</td>\n",
       "      <td>-0.576</td>\n",
       "      <td>-0.2727</td>\n",
       "      <td>-0.4153</td>\n",
       "      <td>-0.8310</td>\n",
       "      <td>-0.4692</td>\n",
       "      <td>-0.03146</td>\n",
       "      <td>-0.6035</td>\n",
       "      <td>-1.021000</td>\n",
       "      <td>...</td>\n",
       "      <td>-0.7227</td>\n",
       "      <td>-0.2145</td>\n",
       "      <td>-0.1927</td>\n",
       "      <td>-0.4163</td>\n",
       "      <td>2.3180</td>\n",
       "      <td>-0.5913</td>\n",
       "      <td>-0.553</td>\n",
       "      <td>-0.5654</td>\n",
       "      <td>-0.04385</td>\n",
       "      <td>-0.681</td>\n",
       "    </tr>\n",
       "    <tr>\n",
       "      <th>...</th>\n",
       "      <td>...</td>\n",
       "      <td>...</td>\n",
       "      <td>...</td>\n",
       "      <td>...</td>\n",
       "      <td>...</td>\n",
       "      <td>...</td>\n",
       "      <td>...</td>\n",
       "      <td>...</td>\n",
       "      <td>...</td>\n",
       "      <td>...</td>\n",
       "      <td>...</td>\n",
       "      <td>...</td>\n",
       "      <td>...</td>\n",
       "      <td>...</td>\n",
       "      <td>...</td>\n",
       "      <td>...</td>\n",
       "      <td>...</td>\n",
       "      <td>...</td>\n",
       "      <td>...</td>\n",
       "      <td>...</td>\n",
       "      <td>...</td>\n",
       "    </tr>\n",
       "    <tr>\n",
       "      <th>E2.MAA000902.3_11_M.1.1</th>\n",
       "      <td>14.98400</td>\n",
       "      <td>1.1550</td>\n",
       "      <td>-0.576</td>\n",
       "      <td>-0.2727</td>\n",
       "      <td>-0.4153</td>\n",
       "      <td>0.7530</td>\n",
       "      <td>-0.4692</td>\n",
       "      <td>-0.03146</td>\n",
       "      <td>-0.6035</td>\n",
       "      <td>-1.021000</td>\n",
       "      <td>...</td>\n",
       "      <td>1.4260</td>\n",
       "      <td>-0.2145</td>\n",
       "      <td>-0.1927</td>\n",
       "      <td>-0.4163</td>\n",
       "      <td>-0.5923</td>\n",
       "      <td>-0.5913</td>\n",
       "      <td>-0.553</td>\n",
       "      <td>-0.5654</td>\n",
       "      <td>-0.04385</td>\n",
       "      <td>1.728</td>\n",
       "    </tr>\n",
       "    <tr>\n",
       "      <th>E2.MAA000926.3_9_M.1.1</th>\n",
       "      <td>-0.08093</td>\n",
       "      <td>-1.4840</td>\n",
       "      <td>-0.576</td>\n",
       "      <td>-0.2727</td>\n",
       "      <td>-0.4153</td>\n",
       "      <td>1.4720</td>\n",
       "      <td>-0.4692</td>\n",
       "      <td>-0.03146</td>\n",
       "      <td>1.8120</td>\n",
       "      <td>1.079000</td>\n",
       "      <td>...</td>\n",
       "      <td>-0.7227</td>\n",
       "      <td>-0.2145</td>\n",
       "      <td>-0.1927</td>\n",
       "      <td>-0.4163</td>\n",
       "      <td>0.2422</td>\n",
       "      <td>-0.5913</td>\n",
       "      <td>-0.553</td>\n",
       "      <td>1.6060</td>\n",
       "      <td>-0.04385</td>\n",
       "      <td>-0.681</td>\n",
       "    </tr>\n",
       "    <tr>\n",
       "      <th>E2.MAA000932.3_11_M.1.1</th>\n",
       "      <td>-0.08093</td>\n",
       "      <td>0.5703</td>\n",
       "      <td>-0.576</td>\n",
       "      <td>-0.2727</td>\n",
       "      <td>-0.4153</td>\n",
       "      <td>-0.8310</td>\n",
       "      <td>-0.4692</td>\n",
       "      <td>-0.03146</td>\n",
       "      <td>-0.6035</td>\n",
       "      <td>-0.003473</td>\n",
       "      <td>...</td>\n",
       "      <td>-0.7227</td>\n",
       "      <td>-0.2145</td>\n",
       "      <td>-0.1927</td>\n",
       "      <td>-0.4163</td>\n",
       "      <td>-0.5923</td>\n",
       "      <td>-0.5913</td>\n",
       "      <td>-0.553</td>\n",
       "      <td>-0.5654</td>\n",
       "      <td>-0.04385</td>\n",
       "      <td>2.074</td>\n",
       "    </tr>\n",
       "    <tr>\n",
       "      <th>E2.MAA000944.3_9_M.1.1</th>\n",
       "      <td>-0.08093</td>\n",
       "      <td>0.3389</td>\n",
       "      <td>-0.576</td>\n",
       "      <td>-0.2727</td>\n",
       "      <td>-0.4153</td>\n",
       "      <td>-0.2434</td>\n",
       "      <td>-0.4692</td>\n",
       "      <td>-0.03146</td>\n",
       "      <td>-0.6035</td>\n",
       "      <td>1.281000</td>\n",
       "      <td>...</td>\n",
       "      <td>1.2160</td>\n",
       "      <td>-0.2145</td>\n",
       "      <td>-0.1927</td>\n",
       "      <td>-0.4163</td>\n",
       "      <td>-0.5923</td>\n",
       "      <td>-0.5913</td>\n",
       "      <td>-0.553</td>\n",
       "      <td>1.3070</td>\n",
       "      <td>-0.04385</td>\n",
       "      <td>-0.681</td>\n",
       "    </tr>\n",
       "    <tr>\n",
       "      <th>E2.MAA001894.3_39_F.1.1</th>\n",
       "      <td>-0.08093</td>\n",
       "      <td>0.3816</td>\n",
       "      <td>-0.576</td>\n",
       "      <td>-0.2727</td>\n",
       "      <td>-0.4153</td>\n",
       "      <td>-0.8310</td>\n",
       "      <td>-0.4692</td>\n",
       "      <td>-0.03146</td>\n",
       "      <td>-0.6035</td>\n",
       "      <td>1.106000</td>\n",
       "      <td>...</td>\n",
       "      <td>-0.7227</td>\n",
       "      <td>-0.2145</td>\n",
       "      <td>-0.1927</td>\n",
       "      <td>-0.4163</td>\n",
       "      <td>-0.5923</td>\n",
       "      <td>-0.5913</td>\n",
       "      <td>-0.553</td>\n",
       "      <td>-0.5654</td>\n",
       "      <td>-0.04385</td>\n",
       "      <td>1.628</td>\n",
       "    </tr>\n",
       "  </tbody>\n",
       "</table>\n",
       "<p>1000 rows × 18585 columns</p>\n",
       "</div>"
      ],
      "text/plain": [
       "                         0610005C13Rik  0610007C21Rik  0610007L01Rik  \\\n",
       "cell                                                                   \n",
       "A1.B003290.3_38_F.1.1         -0.08093         0.7856          1.334   \n",
       "A1.B003728.3_56_F.1.1         -0.08093        -1.4840         -0.576   \n",
       "A1.MAA000560.3_10_M.1.1       -0.08093         0.6300         -0.576   \n",
       "A1.MAA000564.3_10_M.1.1       -0.08093         0.3809          1.782   \n",
       "A1.MAA000923.3_9_M.1.1        -0.08093         0.5654         -0.576   \n",
       "...                                ...            ...            ...   \n",
       "E2.MAA000902.3_11_M.1.1       14.98400         1.1550         -0.576   \n",
       "E2.MAA000926.3_9_M.1.1        -0.08093        -1.4840         -0.576   \n",
       "E2.MAA000932.3_11_M.1.1       -0.08093         0.5703         -0.576   \n",
       "E2.MAA000944.3_9_M.1.1        -0.08093         0.3389         -0.576   \n",
       "E2.MAA001894.3_39_F.1.1       -0.08093         0.3816         -0.576   \n",
       "\n",
       "                         0610007N19Rik  0610007P08Rik  0610007P14Rik  \\\n",
       "cell                                                                   \n",
       "A1.B003290.3_38_F.1.1          -0.2727        -0.4153        -0.8310   \n",
       "A1.B003728.3_56_F.1.1          -0.2727        -0.4153         1.8350   \n",
       "A1.MAA000560.3_10_M.1.1        -0.2727        -0.4153        -0.2084   \n",
       "A1.MAA000564.3_10_M.1.1        -0.2727        -0.4153         1.0300   \n",
       "A1.MAA000923.3_9_M.1.1         -0.2727        -0.4153        -0.8310   \n",
       "...                                ...            ...            ...   \n",
       "E2.MAA000902.3_11_M.1.1        -0.2727        -0.4153         0.7530   \n",
       "E2.MAA000926.3_9_M.1.1         -0.2727        -0.4153         1.4720   \n",
       "E2.MAA000932.3_11_M.1.1        -0.2727        -0.4153        -0.8310   \n",
       "E2.MAA000944.3_9_M.1.1         -0.2727        -0.4153        -0.2434   \n",
       "E2.MAA001894.3_39_F.1.1        -0.2727        -0.4153        -0.8310   \n",
       "\n",
       "                         0610007P22Rik  0610009B14Rik  0610009B22Rik  \\\n",
       "cell                                                                   \n",
       "A1.B003290.3_38_F.1.1          -0.4692       -0.03146        -0.6035   \n",
       "A1.B003728.3_56_F.1.1          -0.4692       -0.03146        -0.6035   \n",
       "A1.MAA000560.3_10_M.1.1        -0.4692       -0.03146        -0.6035   \n",
       "A1.MAA000564.3_10_M.1.1        -0.4692       -0.03146         1.2640   \n",
       "A1.MAA000923.3_9_M.1.1         -0.4692       -0.03146        -0.6035   \n",
       "...                                ...            ...            ...   \n",
       "E2.MAA000902.3_11_M.1.1        -0.4692       -0.03146        -0.6035   \n",
       "E2.MAA000926.3_9_M.1.1         -0.4692       -0.03146         1.8120   \n",
       "E2.MAA000932.3_11_M.1.1        -0.4692       -0.03146        -0.6035   \n",
       "E2.MAA000944.3_9_M.1.1         -0.4692       -0.03146        -0.6035   \n",
       "E2.MAA001894.3_39_F.1.1        -0.4692       -0.03146        -0.6035   \n",
       "\n",
       "                         0610009D07Rik  ...   Zwint    Zxda    Zxdb    Zxdc  \\\n",
       "cell                                    ...                                   \n",
       "A1.B003290.3_38_F.1.1        -1.021000  ... -0.7227 -0.2145 -0.1927 -0.4163   \n",
       "A1.B003728.3_56_F.1.1        -1.021000  ... -0.7227 -0.2145 -0.1927 -0.4163   \n",
       "A1.MAA000560.3_10_M.1.1       1.253000  ...  1.3150 -0.2145 -0.1927 -0.4163   \n",
       "A1.MAA000564.3_10_M.1.1      -1.021000  ... -0.7227 -0.2145 -0.1927 -0.4163   \n",
       "A1.MAA000923.3_9_M.1.1       -1.021000  ... -0.7227 -0.2145 -0.1927 -0.4163   \n",
       "...                                ...  ...     ...     ...     ...     ...   \n",
       "E2.MAA000902.3_11_M.1.1      -1.021000  ...  1.4260 -0.2145 -0.1927 -0.4163   \n",
       "E2.MAA000926.3_9_M.1.1        1.079000  ... -0.7227 -0.2145 -0.1927 -0.4163   \n",
       "E2.MAA000932.3_11_M.1.1      -0.003473  ... -0.7227 -0.2145 -0.1927 -0.4163   \n",
       "E2.MAA000944.3_9_M.1.1        1.281000  ...  1.2160 -0.2145 -0.1927 -0.4163   \n",
       "E2.MAA001894.3_39_F.1.1       1.106000  ... -0.7227 -0.2145 -0.1927 -0.4163   \n",
       "\n",
       "                         Zyg11b     Zyx  Zzef1    Zzz3        a  l7Rn6  \n",
       "cell                                                                    \n",
       "A1.B003290.3_38_F.1.1   -0.5923 -0.5913 -0.553 -0.5654 -0.04385  1.567  \n",
       "A1.B003728.3_56_F.1.1   -0.5923 -0.5913 -0.553 -0.5654 -0.04385 -0.681  \n",
       "A1.MAA000560.3_10_M.1.1 -0.5923 -0.5913  2.072 -0.5654 -0.04385  1.260  \n",
       "A1.MAA000564.3_10_M.1.1 -0.5923  2.3900 -0.553  0.1697 -0.04385 -0.681  \n",
       "A1.MAA000923.3_9_M.1.1   2.3180 -0.5913 -0.553 -0.5654 -0.04385 -0.681  \n",
       "...                         ...     ...    ...     ...      ...    ...  \n",
       "E2.MAA000902.3_11_M.1.1 -0.5923 -0.5913 -0.553 -0.5654 -0.04385  1.728  \n",
       "E2.MAA000926.3_9_M.1.1   0.2422 -0.5913 -0.553  1.6060 -0.04385 -0.681  \n",
       "E2.MAA000932.3_11_M.1.1 -0.5923 -0.5913 -0.553 -0.5654 -0.04385  2.074  \n",
       "E2.MAA000944.3_9_M.1.1  -0.5923 -0.5913 -0.553  1.3070 -0.04385 -0.681  \n",
       "E2.MAA001894.3_39_F.1.1 -0.5923 -0.5913 -0.553 -0.5654 -0.04385  1.628  \n",
       "\n",
       "[1000 rows x 18585 columns]"
      ]
     },
     "execution_count": 2,
     "metadata": {},
     "output_type": "execute_result"
    }
   ],
   "source": [
    "cell_gene_counts_df = pd.read_csv('data/mouse_brain_cells_gene_counts.csv', index_col='cell')\n",
    "cell_gene_counts_df"
   ]
  },
  {
   "cell_type": "markdown",
   "id": "20373fe7",
   "metadata": {},
   "source": [
    "Note the dimensionality - we have 1000 cells (observations) and 18,585 genes (features)!\n",
    "\n",
    "We are also provided a metadata file with annotations for each cell (e.g. cell type, subtissue, mouse sex, etc.)"
   ]
  },
  {
   "cell_type": "code",
   "execution_count": 3,
   "id": "a66d658b",
   "metadata": {
    "ExecuteTime": {
     "end_time": "2021-11-16T22:24:26.856896Z",
     "start_time": "2021-11-16T22:24:26.832193Z"
    }
   },
   "outputs": [
    {
     "data": {
      "text/html": [
       "<div>\n",
       "<style scoped>\n",
       "    .dataframe tbody tr th:only-of-type {\n",
       "        vertical-align: middle;\n",
       "    }\n",
       "\n",
       "    .dataframe tbody tr th {\n",
       "        vertical-align: top;\n",
       "    }\n",
       "\n",
       "    .dataframe thead th {\n",
       "        text-align: right;\n",
       "    }\n",
       "</style>\n",
       "<table border=\"1\" class=\"dataframe\">\n",
       "  <thead>\n",
       "    <tr style=\"text-align: right;\">\n",
       "      <th></th>\n",
       "      <th>cell</th>\n",
       "      <th>cell_ontology_class</th>\n",
       "      <th>subtissue</th>\n",
       "      <th>mouse.sex</th>\n",
       "      <th>mouse.id</th>\n",
       "      <th>plate.barcode</th>\n",
       "      <th>n_genes</th>\n",
       "      <th>n_counts</th>\n",
       "    </tr>\n",
       "  </thead>\n",
       "  <tbody>\n",
       "    <tr>\n",
       "      <th>0</th>\n",
       "      <td>A1.B003290.3_38_F.1.1</td>\n",
       "      <td>astrocyte</td>\n",
       "      <td>Striatum</td>\n",
       "      <td>F</td>\n",
       "      <td>3_38_F</td>\n",
       "      <td>B003290</td>\n",
       "      <td>3359</td>\n",
       "      <td>390075.0</td>\n",
       "    </tr>\n",
       "    <tr>\n",
       "      <th>1</th>\n",
       "      <td>A1.B003728.3_56_F.1.1</td>\n",
       "      <td>astrocyte</td>\n",
       "      <td>Striatum</td>\n",
       "      <td>F</td>\n",
       "      <td>3_56_F</td>\n",
       "      <td>B003728</td>\n",
       "      <td>1718</td>\n",
       "      <td>776436.0</td>\n",
       "    </tr>\n",
       "    <tr>\n",
       "      <th>2</th>\n",
       "      <td>A1.MAA000560.3_10_M.1.1</td>\n",
       "      <td>oligodendrocyte</td>\n",
       "      <td>Cortex</td>\n",
       "      <td>M</td>\n",
       "      <td>3_10_M</td>\n",
       "      <td>MAA000560</td>\n",
       "      <td>3910</td>\n",
       "      <td>1616084.0</td>\n",
       "    </tr>\n",
       "    <tr>\n",
       "      <th>3</th>\n",
       "      <td>A1.MAA000564.3_10_M.1.1</td>\n",
       "      <td>endothelial cell</td>\n",
       "      <td>Striatum</td>\n",
       "      <td>M</td>\n",
       "      <td>3_10_M</td>\n",
       "      <td>MAA000564</td>\n",
       "      <td>4352</td>\n",
       "      <td>360004.0</td>\n",
       "    </tr>\n",
       "    <tr>\n",
       "      <th>4</th>\n",
       "      <td>A1.MAA000923.3_9_M.1.1</td>\n",
       "      <td>astrocyte</td>\n",
       "      <td>Hippocampus</td>\n",
       "      <td>M</td>\n",
       "      <td>3_9_M</td>\n",
       "      <td>MAA000923</td>\n",
       "      <td>2248</td>\n",
       "      <td>290282.0</td>\n",
       "    </tr>\n",
       "    <tr>\n",
       "      <th>...</th>\n",
       "      <td>...</td>\n",
       "      <td>...</td>\n",
       "      <td>...</td>\n",
       "      <td>...</td>\n",
       "      <td>...</td>\n",
       "      <td>...</td>\n",
       "      <td>...</td>\n",
       "      <td>...</td>\n",
       "    </tr>\n",
       "    <tr>\n",
       "      <th>995</th>\n",
       "      <td>E2.MAA000902.3_11_M.1.1</td>\n",
       "      <td>astrocyte</td>\n",
       "      <td>Striatum</td>\n",
       "      <td>M</td>\n",
       "      <td>3_11_M</td>\n",
       "      <td>MAA000902</td>\n",
       "      <td>3026</td>\n",
       "      <td>3134463.0</td>\n",
       "    </tr>\n",
       "    <tr>\n",
       "      <th>996</th>\n",
       "      <td>E2.MAA000926.3_9_M.1.1</td>\n",
       "      <td>oligodendrocyte</td>\n",
       "      <td>Cortex</td>\n",
       "      <td>M</td>\n",
       "      <td>3_9_M</td>\n",
       "      <td>MAA000926</td>\n",
       "      <td>3085</td>\n",
       "      <td>744301.0</td>\n",
       "    </tr>\n",
       "    <tr>\n",
       "      <th>997</th>\n",
       "      <td>E2.MAA000932.3_11_M.1.1</td>\n",
       "      <td>endothelial cell</td>\n",
       "      <td>Hippocampus</td>\n",
       "      <td>M</td>\n",
       "      <td>3_11_M</td>\n",
       "      <td>MAA000932</td>\n",
       "      <td>2277</td>\n",
       "      <td>519257.0</td>\n",
       "    </tr>\n",
       "    <tr>\n",
       "      <th>998</th>\n",
       "      <td>E2.MAA000944.3_9_M.1.1</td>\n",
       "      <td>oligodendrocyte</td>\n",
       "      <td>Cortex</td>\n",
       "      <td>M</td>\n",
       "      <td>3_9_M</td>\n",
       "      <td>MAA000944</td>\n",
       "      <td>3234</td>\n",
       "      <td>1437895.0</td>\n",
       "    </tr>\n",
       "    <tr>\n",
       "      <th>999</th>\n",
       "      <td>E2.MAA001894.3_39_F.1.1</td>\n",
       "      <td>oligodendrocyte</td>\n",
       "      <td>Cortex</td>\n",
       "      <td>F</td>\n",
       "      <td>3_39_F</td>\n",
       "      <td>MAA001894</td>\n",
       "      <td>3375</td>\n",
       "      <td>885166.0</td>\n",
       "    </tr>\n",
       "  </tbody>\n",
       "</table>\n",
       "<p>1000 rows × 8 columns</p>\n",
       "</div>"
      ],
      "text/plain": [
       "                        cell cell_ontology_class    subtissue mouse.sex  \\\n",
       "0      A1.B003290.3_38_F.1.1           astrocyte     Striatum         F   \n",
       "1      A1.B003728.3_56_F.1.1           astrocyte     Striatum         F   \n",
       "2    A1.MAA000560.3_10_M.1.1     oligodendrocyte       Cortex         M   \n",
       "3    A1.MAA000564.3_10_M.1.1    endothelial cell     Striatum         M   \n",
       "4     A1.MAA000923.3_9_M.1.1           astrocyte  Hippocampus         M   \n",
       "..                       ...                 ...          ...       ...   \n",
       "995  E2.MAA000902.3_11_M.1.1           astrocyte     Striatum         M   \n",
       "996   E2.MAA000926.3_9_M.1.1     oligodendrocyte       Cortex         M   \n",
       "997  E2.MAA000932.3_11_M.1.1    endothelial cell  Hippocampus         M   \n",
       "998   E2.MAA000944.3_9_M.1.1     oligodendrocyte       Cortex         M   \n",
       "999  E2.MAA001894.3_39_F.1.1     oligodendrocyte       Cortex         F   \n",
       "\n",
       "    mouse.id plate.barcode  n_genes   n_counts  \n",
       "0     3_38_F       B003290     3359   390075.0  \n",
       "1     3_56_F       B003728     1718   776436.0  \n",
       "2     3_10_M     MAA000560     3910  1616084.0  \n",
       "3     3_10_M     MAA000564     4352   360004.0  \n",
       "4      3_9_M     MAA000923     2248   290282.0  \n",
       "..       ...           ...      ...        ...  \n",
       "995   3_11_M     MAA000902     3026  3134463.0  \n",
       "996    3_9_M     MAA000926     3085   744301.0  \n",
       "997   3_11_M     MAA000932     2277   519257.0  \n",
       "998    3_9_M     MAA000944     3234  1437895.0  \n",
       "999   3_39_F     MAA001894     3375   885166.0  \n",
       "\n",
       "[1000 rows x 8 columns]"
      ]
     },
     "execution_count": 3,
     "metadata": {},
     "output_type": "execute_result"
    }
   ],
   "source": [
    "cell_metadata_df = pd.read_csv('data/mouse_brain_cells_metadata.csv')\n",
    "cell_metadata_df"
   ]
  },
  {
   "cell_type": "markdown",
   "id": "ad43e879",
   "metadata": {},
   "source": [
    "Different cell types"
   ]
  },
  {
   "cell_type": "code",
   "execution_count": 4,
   "id": "b432c73b",
   "metadata": {
    "ExecuteTime": {
     "end_time": "2021-11-16T22:24:26.869385Z",
     "start_time": "2021-11-16T22:24:26.859461Z"
    }
   },
   "outputs": [
    {
     "data": {
      "text/plain": [
       "oligodendrocyte                   385\n",
       "endothelial cell                  264\n",
       "astrocyte                         135\n",
       "neuron                             94\n",
       "brain pericyte                     58\n",
       "oligodendrocyte precursor cell     54\n",
       "Bergmann glial cell                10\n",
       "Name: cell_ontology_class, dtype: int64"
      ]
     },
     "execution_count": 4,
     "metadata": {},
     "output_type": "execute_result"
    }
   ],
   "source": [
    "cell_metadata_df['cell_ontology_class'].value_counts()"
   ]
  },
  {
   "cell_type": "markdown",
   "id": "8624ffb4",
   "metadata": {},
   "source": [
    "Different subtissue types (parts of the brain)"
   ]
  },
  {
   "cell_type": "code",
   "execution_count": 5,
   "id": "f0103c84",
   "metadata": {
    "ExecuteTime": {
     "end_time": "2021-11-16T22:24:26.879413Z",
     "start_time": "2021-11-16T22:24:26.871974Z"
    }
   },
   "outputs": [
    {
     "data": {
      "text/plain": [
       "Cortex         364\n",
       "Hippocampus    273\n",
       "Striatum       220\n",
       "Cerebellum     143\n",
       "Name: subtissue, dtype: int64"
      ]
     },
     "execution_count": 5,
     "metadata": {},
     "output_type": "execute_result"
    }
   ],
   "source": [
    "cell_metadata_df['subtissue'].value_counts()"
   ]
  },
  {
   "cell_type": "markdown",
   "id": "0fb01d74",
   "metadata": {},
   "source": [
    "Our goal in this exercise is to use dimensionality reduction and clustering to visualize and better understand the high-dimensional gene expression matrix. We will use the following pipeline, which is common in single-cell analysis:\n",
    "1. Use PCA to project the gene expression matrix to a lower-dimensional linear subspace.\n",
    "2. Cluster the data using K-means on the first 20 principal components.\n",
    "3. Use t-SNE to project the first 20 principal components onto two dimensions. Visualize the points and color by their clusters from (2)."
   ]
  },
  {
   "cell_type": "markdown",
   "id": "c804ee02",
   "metadata": {},
   "source": [
    "## Part 1: PCA"
   ]
  },
  {
   "cell_type": "markdown",
   "id": "e6351189",
   "metadata": {},
   "source": [
    "**Perform PCA and project the gene expression matrix onto its first 50 principal components. You may use `sklearn.decomposition.PCA`.**"
   ]
  },
  {
   "cell_type": "code",
   "execution_count": 6,
   "id": "797f5576",
   "metadata": {
    "ExecuteTime": {
     "end_time": "2021-11-16T22:24:26.884931Z",
     "start_time": "2021-11-16T22:24:26.881804Z"
    }
   },
   "outputs": [],
   "source": [
    "### Your code here\n"
   ]
  },
  {
   "cell_type": "markdown",
   "id": "fde52e4f",
   "metadata": {},
   "source": [
    "**Plot the cumulative proportion of variance explained as a function of the number of principal components. How much of the total variance in the dataset is explained by the first 20 principal components?**"
   ]
  },
  {
   "cell_type": "code",
   "execution_count": 7,
   "id": "b6462f1c",
   "metadata": {
    "ExecuteTime": {
     "end_time": "2021-11-16T22:24:26.891590Z",
     "start_time": "2021-11-16T22:24:26.887722Z"
    }
   },
   "outputs": [],
   "source": [
    "### Your code here\n"
   ]
  },
  {
   "cell_type": "markdown",
   "id": "c9638146",
   "metadata": {},
   "source": [
    "**For the first principal component, report the top 10 loadings (weights) and their corresponding gene names.** In other words, which 10 genes are weighted the most in the first principal component?"
   ]
  },
  {
   "cell_type": "code",
   "execution_count": 8,
   "id": "ad3f4a4a",
   "metadata": {
    "ExecuteTime": {
     "end_time": "2021-11-16T22:24:26.899076Z",
     "start_time": "2021-11-16T22:24:26.894255Z"
    }
   },
   "outputs": [],
   "source": [
    "### Your code here\n"
   ]
  },
  {
   "cell_type": "markdown",
   "id": "81754995",
   "metadata": {},
   "source": [
    "**Plot the projection of the data onto the first two principal components using a scatter plot.**"
   ]
  },
  {
   "cell_type": "code",
   "execution_count": 9,
   "id": "df9c5d79",
   "metadata": {
    "ExecuteTime": {
     "end_time": "2021-11-16T22:24:26.909969Z",
     "start_time": "2021-11-16T22:24:26.905518Z"
    }
   },
   "outputs": [],
   "source": [
    "### Your code here\n"
   ]
  },
  {
   "cell_type": "markdown",
   "id": "2f221586",
   "metadata": {},
   "source": [
    "**Now, use a small multiple of four scatter plots to make the same plot as above, but colored by four annotations in the metadata: cell_ontology_class, subtissue, mouse.sex, mouse.id. Include a legend for the labels.** For example, one of the plots should have points projected onto PC 1 and PC 2, colored by their cell_ontology_class."
   ]
  },
  {
   "cell_type": "code",
   "execution_count": 10,
   "id": "2805c843",
   "metadata": {
    "ExecuteTime": {
     "end_time": "2021-11-16T22:24:26.933609Z",
     "start_time": "2021-11-16T22:24:26.924541Z"
    }
   },
   "outputs": [],
   "source": [
    "### Your code here\n"
   ]
  },
  {
   "cell_type": "markdown",
   "id": "abaca21a",
   "metadata": {},
   "source": [
    "**Based on the plots above, the first two principal components correspond to which aspect of the cells? What is the intrinsic dimension that they are describing?**"
   ]
  },
  {
   "cell_type": "code",
   "execution_count": 11,
   "id": "6119d074",
   "metadata": {
    "ExecuteTime": {
     "end_time": "2021-11-16T22:24:26.943774Z",
     "start_time": "2021-11-16T22:24:26.937310Z"
    }
   },
   "outputs": [],
   "source": [
    "### Your answer here\n"
   ]
  },
  {
   "cell_type": "markdown",
   "id": "31268985",
   "metadata": {},
   "source": [
    "## Part 2: K-means"
   ]
  },
  {
   "cell_type": "markdown",
   "id": "f4b7f408",
   "metadata": {},
   "source": [
    "While the annotations provide high-level information on cell type (e.g. cell_ontology_class has 7 categories), we may also be interested in finding more granular subtypes of cells. To achieve this, we will use K-means clustering to find a large number of clusters in the gene expression dataset. Note that the original gene expression matrix had over 18,000 noisy features, which is not ideal for clustering. So, we will perform K-means clustering on the first 20 principal components of the dataset."
   ]
  },
  {
   "cell_type": "markdown",
   "id": "4f15d930",
   "metadata": {},
   "source": [
    "**Implement a `kmeans` function which takes in a dataset `X` and a number of clusters `k`, and returns the cluster assignment for each point in `X`. You may NOT use sklearn for this implementation. Use lecture 6, slide 14 as a reference.**"
   ]
  },
  {
   "cell_type": "code",
   "execution_count": 12,
   "id": "a2cb6dfa",
   "metadata": {
    "ExecuteTime": {
     "end_time": "2021-11-16T22:24:26.956049Z",
     "start_time": "2021-11-16T22:24:26.947337Z"
    }
   },
   "outputs": [],
   "source": [
    "def kmeans(X, k, iters=10):\n",
    "    '''Groups the points in X into k clusters using the K-means algorithm.\n",
    "\n",
    "    Parameters\n",
    "    ----------\n",
    "    X : (m x n) data matrix\n",
    "    k: number of clusters\n",
    "    iters: number of iterations to run k-means loop\n",
    "\n",
    "    Returns\n",
    "    -------\n",
    "    y: (m x 1) cluster assignment for each point in X\n",
    "    '''\n",
    "    ### Your code here\n",
    "    "
   ]
  },
  {
   "cell_type": "markdown",
   "id": "91d7385c",
   "metadata": {},
   "source": [
    "Before applying K-means on the gene expression data, we will test it on the following synthetic dataset to make sure that the implementation is working."
   ]
  },
  {
   "cell_type": "code",
   "execution_count": 13,
   "id": "4dd81225",
   "metadata": {
    "ExecuteTime": {
     "end_time": "2021-11-16T22:24:27.672320Z",
     "start_time": "2021-11-16T22:24:26.958857Z"
    }
   },
   "outputs": [
    {
     "data": {
      "text/plain": [
       "Text(0, 0.5, '$x_2$')"
      ]
     },
     "execution_count": 13,
     "metadata": {},
     "output_type": "execute_result"
    },
    {
     "data": {
      "image/png": "[encoded data removed]",
      "text/plain": [
       "<Figure size 576x360 with 1 Axes>"
      ]
     },
     "metadata": {
      "needs_background": "light"
     },
     "output_type": "display_data"
    }
   ],
   "source": [
    "np.random.seed(0)\n",
    "x_1 = np.random.multivariate_normal(mean=[1, 2], cov=np.array([[0.8, 0.6], [0.6, 0.8]]), size=100)\n",
    "x_2 = np.random.multivariate_normal(mean=[-2, -2], cov=np.array([[0.8, -0.4], [-0.4, 0.8]]), size=100)\n",
    "x_3 = np.random.multivariate_normal(mean=[2, -2], cov=np.array([[0.4, 0], [0, 0.4]]), size=100)\n",
    "X = np.vstack([x_1, x_2, x_3])\n",
    "\n",
    "plt.figure(figsize=(8, 5))\n",
    "plt.scatter(X[:, 0], X[:, 1], s=10)\n",
    "plt.xlabel('$x_1$', fontsize=15)\n",
    "plt.ylabel('$x_2$', fontsize=15)"
   ]
  },
  {
   "cell_type": "markdown",
   "id": "e5ff1e41",
   "metadata": {},
   "source": [
    "**Apply K-means with k=3 to the synthetic dataset above. Plot the points colored by their K-means cluster assignments to verify that your implementation is working.**"
   ]
  },
  {
   "cell_type": "code",
   "execution_count": 14,
   "id": "d88b93d3",
   "metadata": {
    "ExecuteTime": {
     "end_time": "2021-11-16T22:24:27.683703Z",
     "start_time": "2021-11-16T22:24:27.680474Z"
    }
   },
   "outputs": [],
   "source": [
    "### Your code here\n"
   ]
  },
  {
   "cell_type": "markdown",
   "id": "d6873b82",
   "metadata": {},
   "source": [
    "**Use K-means with k=20 to cluster the first 20 principal components of the gene expression data.**"
   ]
  },
  {
   "cell_type": "code",
   "execution_count": 15,
   "id": "8301741f",
   "metadata": {
    "ExecuteTime": {
     "end_time": "2021-11-16T22:24:27.689459Z",
     "start_time": "2021-11-16T22:24:27.686360Z"
    }
   },
   "outputs": [],
   "source": [
    "### Your code here\n"
   ]
  },
  {
   "cell_type": "markdown",
   "id": "93d9ff09",
   "metadata": {},
   "source": [
    "## Part 3: t-SNE"
   ]
  },
  {
   "cell_type": "markdown",
   "id": "ffc3d202",
   "metadata": {},
   "source": [
    "In this final section, we will visualize the data again using t-SNE - a non-linear dimensionality reduction algorithm. You can learn more about t-SNE in this interactive tutorial: https://distill.pub/2016/misread-tsne/."
   ]
  },
  {
   "cell_type": "markdown",
   "id": "0f407279",
   "metadata": {},
   "source": [
    "**Use t-SNE to reduce the first 20 principal components of the gene expression dataset to two dimensions. You may use `sklearn.manifold.TSNE`.** Note that it is recommended to first perform PCA before applying t-SNE to suppress noise and speed up computation."
   ]
  },
  {
   "cell_type": "code",
   "execution_count": 16,
   "id": "75798784",
   "metadata": {
    "ExecuteTime": {
     "end_time": "2021-11-16T22:24:27.695256Z",
     "start_time": "2021-11-16T22:24:27.692024Z"
    }
   },
   "outputs": [],
   "source": [
    "### Your code here\n"
   ]
  },
  {
   "cell_type": "markdown",
   "id": "7545e4fc",
   "metadata": {},
   "source": [
    "**Plot the data (first 20 principal components) projected onto the first two t-SNE dimensions.**"
   ]
  },
  {
   "cell_type": "code",
   "execution_count": 17,
   "id": "46ac945a",
   "metadata": {
    "ExecuteTime": {
     "end_time": "2021-11-16T22:24:27.703023Z",
     "start_time": "2021-11-16T22:24:27.698087Z"
    }
   },
   "outputs": [],
   "source": [
    "### Your code here\n"
   ]
  },
  {
   "cell_type": "markdown",
   "id": "749cc00b",
   "metadata": {},
   "source": [
    "**Plot the data (first 20 principal components) projected onto the first two t-SNE dimensions, with points colored by their cluster assignments from part 2.**"
   ]
  },
  {
   "cell_type": "code",
   "execution_count": 18,
   "id": "0310f406",
   "metadata": {
    "ExecuteTime": {
     "end_time": "2021-11-16T22:24:27.709697Z",
     "start_time": "2021-11-16T22:24:27.705708Z"
    }
   },
   "outputs": [],
   "source": [
    "### Your code here\n"
   ]
  },
  {
   "cell_type": "markdown",
   "id": "ddfb5fa8",
   "metadata": {},
   "source": [
    "**Why is there overlap between points in different clusters in the t-SNE plot above?**"
   ]
  },
  {
   "cell_type": "code",
   "execution_count": 19,
   "id": "bfc7d1e3",
   "metadata": {
    "ExecuteTime": {
     "end_time": "2021-11-16T22:24:27.718970Z",
     "start_time": "2021-11-16T22:24:27.712172Z"
    }
   },
   "outputs": [],
   "source": [
    "### Your answer here\n"
   ]
  },
  {
   "cell_type": "markdown",
   "id": "ef649c5b",
   "metadata": {},
   "source": [
    "These 20 clusters may correspond to various cell subtypes or cell states. They can be further investigated and mapped to known cell types based on their gene expressions (e.g. using the K-means cluster centers). The clusters may also be used in downstream analysis. For instance, we can monitor how the clusters evolve and interact with each other over time in response to a treatment."
   ]
  }
 ],
 "metadata": {
  "kernelspec": {
   "display_name": "Python 3 (ipykernel)",
   "language": "python",
   "name": "python3"
  },
  "language_info": {
   "codemirror_mode": {
    "name": "ipython",
    "version": 3
   },
   "file_extension": ".py",
   "mimetype": "text/x-python",
   "name": "python",
   "nbconvert_exporter": "python",
   "pygments_lexer": "ipython3",
   "version": "3.8.8"
  }
 },
 "nbformat": 4,
 "nbformat_minor": 5
}
